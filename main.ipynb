{
 "cells": [
  {
   "cell_type": "markdown",
   "id": "c5b026f0",
   "metadata": {},
   "source": [
    "# Berlin Building Completions (source-aligned) - Sample Notebook"
   ]
  },
  {
   "cell_type": "markdown",
   "id": "5a44c9ea",
   "metadata": {},
   "source": [
    "## Explore data"
   ]
  },
  {
   "cell_type": "code",
   "execution_count": 1,
   "id": "7d96f453",
   "metadata": {
    "execution": {
     "iopub.execute_input": "2025-10-28T22:34:33.890628Z",
     "iopub.status.busy": "2025-10-28T22:34:33.890427Z",
     "iopub.status.idle": "2025-10-28T22:34:33.901315Z",
     "shell.execute_reply": "2025-10-28T22:34:33.900705Z"
    }
   },
   "outputs": [],
   "source": [
    "import pandas as pd\n",
    "\n",
    "# Read csv file\n",
    "dataframe = pd.read_csv(\n",
    "    \"./data/03-gold/berlin-building-completions-2023-00-csv/berlin-building-completions-2023-00-23-outflow-of-all-buildings-complete-districts-districts.csv\"\n",
    ")"
   ]
  },
  {
   "cell_type": "code",
   "execution_count": 2,
   "id": "05ac5ccc",
   "metadata": {
    "execution": {
     "iopub.execute_input": "2025-10-28T22:34:33.903021Z",
     "iopub.status.busy": "2025-10-28T22:34:33.902905Z",
     "iopub.status.idle": "2025-10-28T22:34:33.917479Z",
     "shell.execute_reply": "2025-10-28T22:34:33.916922Z"
    }
   },
   "outputs": [
    {
     "data": {
      "text/html": [
       "<div>\n",
       "<style scoped>\n",
       "    .dataframe tbody tr th:only-of-type {\n",
       "        vertical-align: middle;\n",
       "    }\n",
       "\n",
       "    .dataframe tbody tr th {\n",
       "        vertical-align: top;\n",
       "    }\n",
       "\n",
       "    .dataframe thead th {\n",
       "        text-align: right;\n",
       "    }\n",
       "</style>\n",
       "<table border=\"1\" class=\"dataframe\">\n",
       "  <thead>\n",
       "    <tr style=\"text-align: right;\">\n",
       "      <th></th>\n",
       "      <th>id</th>\n",
       "      <th>residential_buildings</th>\n",
       "      <th>residential_buildings_apartments</th>\n",
       "      <th>residential_buildings_usage_area</th>\n",
       "      <th>non_residential_buildings</th>\n",
       "      <th>non_residential_buildings_apartments</th>\n",
       "      <th>non_residential_buildings_usage_area</th>\n",
       "    </tr>\n",
       "  </thead>\n",
       "  <tbody>\n",
       "    <tr>\n",
       "      <th>0</th>\n",
       "      <td>1</td>\n",
       "      <td>5</td>\n",
       "      <td>83</td>\n",
       "      <td>4</td>\n",
       "      <td>11</td>\n",
       "      <td>16</td>\n",
       "      <td>36.1</td>\n",
       "    </tr>\n",
       "    <tr>\n",
       "      <th>1</th>\n",
       "      <td>2</td>\n",
       "      <td>–</td>\n",
       "      <td>–</td>\n",
       "      <td>–</td>\n",
       "      <td>2</td>\n",
       "      <td>2</td>\n",
       "      <td>4.4</td>\n",
       "    </tr>\n",
       "    <tr>\n",
       "      <th>2</th>\n",
       "      <td>3</td>\n",
       "      <td>37</td>\n",
       "      <td>47</td>\n",
       "      <td>6</td>\n",
       "      <td>13</td>\n",
       "      <td>6</td>\n",
       "      <td>21.4</td>\n",
       "    </tr>\n",
       "    <tr>\n",
       "      <th>3</th>\n",
       "      <td>4</td>\n",
       "      <td>4</td>\n",
       "      <td>4</td>\n",
       "      <td>0.7</td>\n",
       "      <td>2</td>\n",
       "      <td>–</td>\n",
       "      <td>6.5</td>\n",
       "    </tr>\n",
       "    <tr>\n",
       "      <th>4</th>\n",
       "      <td>5</td>\n",
       "      <td>16</td>\n",
       "      <td>16</td>\n",
       "      <td>2</td>\n",
       "      <td>13</td>\n",
       "      <td>1</td>\n",
       "      <td>8.8</td>\n",
       "    </tr>\n",
       "  </tbody>\n",
       "</table>\n",
       "</div>"
      ],
      "text/plain": [
       "   id  ... non_residential_buildings_usage_area\n",
       "0   1  ...                                 36.1\n",
       "1   2  ...                                  4.4\n",
       "2   3  ...                                 21.4\n",
       "3   4  ...                                  6.5\n",
       "4   5  ...                                  8.8\n",
       "\n",
       "[5 rows x 7 columns]"
      ]
     },
     "execution_count": 2,
     "metadata": {},
     "output_type": "execute_result"
    }
   ],
   "source": [
    "# Display 5 first rows\n",
    "dataframe.head()"
   ]
  },
  {
   "cell_type": "code",
   "execution_count": 3,
   "id": "86645690",
   "metadata": {
    "execution": {
     "iopub.execute_input": "2025-10-28T22:34:33.918728Z",
     "iopub.status.busy": "2025-10-28T22:34:33.918630Z",
     "iopub.status.idle": "2025-10-28T22:34:33.924336Z",
     "shell.execute_reply": "2025-10-28T22:34:33.923861Z"
    }
   },
   "outputs": [
    {
     "name": "stdout",
     "output_type": "stream",
     "text": [
      "<class 'pandas.core.frame.DataFrame'>\n",
      "RangeIndex: 12 entries, 0 to 11\n",
      "Data columns (total 7 columns):\n",
      " #   Column                                Non-Null Count  Dtype  \n",
      "---  ------                                --------------  -----  \n",
      " 0   id                                    12 non-null     int64  \n",
      " 1   residential_buildings                 12 non-null     object \n",
      " 2   residential_buildings_apartments      12 non-null     object \n",
      " 3   residential_buildings_usage_area      12 non-null     object \n",
      " 4   non_residential_buildings             12 non-null     int64  \n",
      " 5   non_residential_buildings_apartments  12 non-null     object \n",
      " 6   non_residential_buildings_usage_area  12 non-null     float64\n",
      "dtypes: float64(1), int64(2), object(4)\n",
      "memory usage: 804.0+ bytes\n"
     ]
    }
   ],
   "source": [
    "# Display dataframe info\n",
    "dataframe.info()"
   ]
  },
  {
   "cell_type": "code",
   "execution_count": 4,
   "id": "741803b6",
   "metadata": {
    "execution": {
     "iopub.execute_input": "2025-10-28T22:34:33.925484Z",
     "iopub.status.busy": "2025-10-28T22:34:33.925406Z",
     "iopub.status.idle": "2025-10-28T22:34:33.932104Z",
     "shell.execute_reply": "2025-10-28T22:34:33.931701Z"
    }
   },
   "outputs": [
    {
     "data": {
      "text/html": [
       "<div>\n",
       "<style scoped>\n",
       "    .dataframe tbody tr th:only-of-type {\n",
       "        vertical-align: middle;\n",
       "    }\n",
       "\n",
       "    .dataframe tbody tr th {\n",
       "        vertical-align: top;\n",
       "    }\n",
       "\n",
       "    .dataframe thead th {\n",
       "        text-align: right;\n",
       "    }\n",
       "</style>\n",
       "<table border=\"1\" class=\"dataframe\">\n",
       "  <thead>\n",
       "    <tr style=\"text-align: right;\">\n",
       "      <th></th>\n",
       "      <th>id</th>\n",
       "      <th>non_residential_buildings</th>\n",
       "      <th>non_residential_buildings_usage_area</th>\n",
       "    </tr>\n",
       "  </thead>\n",
       "  <tbody>\n",
       "    <tr>\n",
       "      <th>count</th>\n",
       "      <td>12.000000</td>\n",
       "      <td>12.000000</td>\n",
       "      <td>12.000000</td>\n",
       "    </tr>\n",
       "    <tr>\n",
       "      <th>mean</th>\n",
       "      <td>6.500000</td>\n",
       "      <td>8.750000</td>\n",
       "      <td>22.308333</td>\n",
       "    </tr>\n",
       "    <tr>\n",
       "      <th>std</th>\n",
       "      <td>3.605551</td>\n",
       "      <td>4.807664</td>\n",
       "      <td>25.498715</td>\n",
       "    </tr>\n",
       "    <tr>\n",
       "      <th>min</th>\n",
       "      <td>1.000000</td>\n",
       "      <td>2.000000</td>\n",
       "      <td>4.400000</td>\n",
       "    </tr>\n",
       "    <tr>\n",
       "      <th>25%</th>\n",
       "      <td>3.750000</td>\n",
       "      <td>5.250000</td>\n",
       "      <td>8.225000</td>\n",
       "    </tr>\n",
       "    <tr>\n",
       "      <th>50%</th>\n",
       "      <td>6.500000</td>\n",
       "      <td>10.000000</td>\n",
       "      <td>12.200000</td>\n",
       "    </tr>\n",
       "    <tr>\n",
       "      <th>75%</th>\n",
       "      <td>9.250000</td>\n",
       "      <td>12.250000</td>\n",
       "      <td>25.075000</td>\n",
       "    </tr>\n",
       "    <tr>\n",
       "      <th>max</th>\n",
       "      <td>12.000000</td>\n",
       "      <td>16.000000</td>\n",
       "      <td>93.100000</td>\n",
       "    </tr>\n",
       "  </tbody>\n",
       "</table>\n",
       "</div>"
      ],
      "text/plain": [
       "              id  ...  non_residential_buildings_usage_area\n",
       "count  12.000000  ...                             12.000000\n",
       "mean    6.500000  ...                             22.308333\n",
       "std     3.605551  ...                             25.498715\n",
       "min     1.000000  ...                              4.400000\n",
       "25%     3.750000  ...                              8.225000\n",
       "50%     6.500000  ...                             12.200000\n",
       "75%     9.250000  ...                             25.075000\n",
       "max    12.000000  ...                             93.100000\n",
       "\n",
       "[8 rows x 3 columns]"
      ]
     },
     "execution_count": 4,
     "metadata": {},
     "output_type": "execute_result"
    }
   ],
   "source": [
    "# Describe dataframe\n",
    "dataframe.describe()"
   ]
  }
 ],
 "metadata": {
  "language_info": {
   "codemirror_mode": {
    "name": "ipython",
    "version": 3
   },
   "file_extension": ".py",
   "mimetype": "text/x-python",
   "name": "python",
   "nbconvert_exporter": "python",
   "pygments_lexer": "ipython3",
   "version": "3.13.0"
  }
 },
 "nbformat": 4,
 "nbformat_minor": 5
}
